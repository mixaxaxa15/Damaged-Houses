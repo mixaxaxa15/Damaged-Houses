{
  "cells": [
    {
      "cell_type": "code",
      "execution_count": null,
      "metadata": {
        "id": "f6JoQNBpxnaK"
      },
      "outputs": [],
      "source": [
        "import tensorflow as tf\n",
        "import keras.applications\n",
        "import keras\n",
        "import tensorflow_datasets as tfds\n",
        "from tensorflow.keras import layers"
      ]
    },
    {
      "cell_type": "code",
      "execution_count": null,
      "metadata": {
        "colab": {
          "base_uri": "https://localhost:8080/"
        },
        "id": "GMNR5wbx-tFI",
        "outputId": "e7121ed3-2c5d-4aa3-d9d8-4aaf0def8107"
      },
      "outputs": [
        {
          "output_type": "stream",
          "name": "stdout",
          "text": [
            "Found 1803 files belonging to 6 classes.\n",
            "Using 1353 files for training.\n"
          ]
        }
      ],
      "source": [
        "data_train = tf.keras.utils.image_dataset_from_directory(\n",
        "  '/content/drive/MyDrive/фотки',\n",
        "  validation_split=0.25,\n",
        "  subset=\"training\",\n",
        "  seed=123,\n",
        "  image_size=(224, 224),\n",
        "  shuffle=True,\n",
        "  batch_size=32)"
      ]
    },
    {
      "cell_type": "code",
      "execution_count": null,
      "metadata": {
        "colab": {
          "base_uri": "https://localhost:8080/"
        },
        "id": "XEbw8LK4_A9x",
        "outputId": "92278276-2221-4aab-8754-072c9e3df994"
      },
      "outputs": [
        {
          "output_type": "stream",
          "name": "stdout",
          "text": [
            "Found 1803 files belonging to 6 classes.\n",
            "Using 450 files for validation.\n"
          ]
        }
      ],
      "source": [
        "data_valid = tf.keras.utils.image_dataset_from_directory(\n",
        "  '/content/drive/MyDrive/фотки',\n",
        "  validation_split=0.25,\n",
        "  subset=\"validation\",\n",
        "  seed=123,\n",
        "  image_size=(224, 224),\n",
        "  shuffle=True,\n",
        "  batch_size=32)"
      ]
    },
    {
      "cell_type": "code",
      "execution_count": null,
      "metadata": {
        "id": "gpC94GBDbIg0"
      },
      "outputs": [],
      "source": [
        "AUTOTUNE = tf.data.AUTOTUNE\n",
        "\n",
        "data_train = data_train.cache().prefetch(buffer_size=AUTOTUNE)\n",
        "data_valid = data_valid.cache().prefetch(buffer_size=AUTOTUNE)"
      ]
    },
    {
      "cell_type": "code",
      "execution_count": null,
      "metadata": {
        "id": "icVLQlNR_NvU"
      },
      "outputs": [],
      "source": [
        "base_model = tf.keras.applications.MobileNetV3Small(input_shape=(224,224, 3),include_top=False,weights='imagenet', classes=6)\n",
        "base_model.trainable = False\n",
        "\n",
        "keras_model=tf.keras.models.Sequential()\n",
        "keras_model.add(base_model)\n",
        "keras_model.add(tf.keras.layers.Rescaling(1./255))\n",
        "keras_model.add(tf.keras.layers.Flatten())\n",
        "keras_model.add(tf.keras.layers.Dropout(0.4))\n",
        "keras_model.add(tf.keras.layers.Dense(300, activation='relu'))\n",
        "keras_model.add(tf.keras.layers.Dense(200, activation='relu'))\n",
        "keras_model.add(tf.keras.layers.Dense(6, activation=tf.nn.softmax))\n",
        "keras_model.summary()\n"
      ]
    },
    {
      "cell_type": "code",
      "source": [
        "keras_model.compile(\n",
        "    optimizer = tf.keras.optimizers.Adam(learning_rate=0.005),\n",
        "    loss='sparse_categorical_crossentropy',\n",
        "    metrics = ['accuracy']\n",
        ")"
      ],
      "metadata": {
        "id": "mXeCecQjE4qg"
      },
      "execution_count": null,
      "outputs": []
    },
    {
      "cell_type": "code",
      "execution_count": null,
      "metadata": {
        "id": "O-_7DPgIBD6j"
      },
      "outputs": [],
      "source": [
        "keras_model.fit(\n",
        "    data_train,\n",
        "    validation_data = data_valid,\n",
        "    epochs = 25\n",
        ")"
      ]
    }
  ],
  "metadata": {
    "colab": {
      "provenance": []
    },
    "kernelspec": {
      "display_name": "Python 3",
      "name": "python3"
    },
    "language_info": {
      "name": "python"
    }
  },
  "nbformat": 4,
  "nbformat_minor": 0
}